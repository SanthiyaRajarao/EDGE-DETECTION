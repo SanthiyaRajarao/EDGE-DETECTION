{
 "cells": [
  {
   "cell_type": "code",
   "execution_count": null,
   "id": "7d623815-52a0-46d7-96b5-f453bd14f578",
   "metadata": {},
   "outputs": [],
   "source": [
    "SANTHIYA R\n",
    "212223230192"
   ]
  },
  {
   "cell_type": "code",
   "execution_count": 4,
   "id": "14b71e9c-8a5d-48f6-8987-1b38b7621aef",
   "metadata": {},
   "outputs": [],
   "source": [
    "import cv2\n",
    "import numpy as np\n",
    "import matplotlib.pyplot as plt"
   ]
  },
  {
   "cell_type": "code",
   "execution_count": 5,
   "id": "4de2c889-8396-41dd-81fe-a24f48abd035",
   "metadata": {},
   "outputs": [],
   "source": [
    "image = cv2.imread('Documents/DIPTfort.jpg')  "
   ]
  },
  {
   "cell_type": "code",
   "execution_count": 6,
   "id": "159e4708-fe6e-43d8-935b-1fb3522d45c1",
   "metadata": {},
   "outputs": [
    {
     "ename": "error",
     "evalue": "OpenCV(4.11.0) D:\\a\\opencv-python\\opencv-python\\opencv\\modules\\imgproc\\src\\color.cpp:199: error: (-215:Assertion failed) !_src.empty() in function 'cv::cvtColor'\n",
     "output_type": "error",
     "traceback": [
      "\u001b[1;31m---------------------------------------------------------------------------\u001b[0m",
      "\u001b[1;31merror\u001b[0m                                     Traceback (most recent call last)",
      "Cell \u001b[1;32mIn[6], line 1\u001b[0m\n\u001b[1;32m----> 1\u001b[0m gray_image \u001b[38;5;241m=\u001b[39m cv2\u001b[38;5;241m.\u001b[39mcvtColor(image, cv2\u001b[38;5;241m.\u001b[39mCOLOR_BGR2GRAY)\n",
      "\u001b[1;31merror\u001b[0m: OpenCV(4.11.0) D:\\a\\opencv-python\\opencv-python\\opencv\\modules\\imgproc\\src\\color.cpp:199: error: (-215:Assertion failed) !_src.empty() in function 'cv::cvtColor'\n"
     ]
    }
   ],
   "source": [
    "gray_image = cv2.cvtColor(image, cv2.COLOR_BGR2GRAY)"
   ]
  },
  {
   "cell_type": "code",
   "execution_count": 2,
   "id": "5b516cd2-c094-4ab1-a8fe-7db24af0942d",
   "metadata": {},
   "outputs": [
    {
     "ename": "NameError",
     "evalue": "name 'gray_image' is not defined",
     "output_type": "error",
     "traceback": [
      "\u001b[1;31m---------------------------------------------------------------------------\u001b[0m",
      "\u001b[1;31mNameError\u001b[0m                                 Traceback (most recent call last)",
      "Cell \u001b[1;32mIn[2], line 1\u001b[0m\n\u001b[1;32m----> 1\u001b[0m sobel_x \u001b[38;5;241m=\u001b[39m cv2\u001b[38;5;241m.\u001b[39mSobel(gray_image, cv2\u001b[38;5;241m.\u001b[39mCV_64F, \u001b[38;5;241m1\u001b[39m, \u001b[38;5;241m0\u001b[39m, ksize\u001b[38;5;241m=\u001b[39m\u001b[38;5;241m5\u001b[39m) \n\u001b[0;32m      2\u001b[0m sobel_y \u001b[38;5;241m=\u001b[39m cv2\u001b[38;5;241m.\u001b[39mSobel(gray_image, cv2\u001b[38;5;241m.\u001b[39mCV_64F, \u001b[38;5;241m0\u001b[39m, \u001b[38;5;241m1\u001b[39m, ksize\u001b[38;5;241m=\u001b[39m\u001b[38;5;241m5\u001b[39m)\n\u001b[0;32m      3\u001b[0m sobel_combined \u001b[38;5;241m=\u001b[39m cv2\u001b[38;5;241m.\u001b[39mmagnitude(sobel_x, sobel_y)\n",
      "\u001b[1;31mNameError\u001b[0m: name 'gray_image' is not defined"
     ]
    }
   ],
   "source": [
    "sobel_x = cv2.Sobel(gray_image, cv2.CV_64F, 1, 0, ksize=5) \n",
    "sobel_y = cv2.Sobel(gray_image, cv2.CV_64F, 0, 1, ksize=5)\n",
    "sobel_combined = cv2.magnitude(sobel_x, sobel_y)"
   ]
  },
  {
   "cell_type": "code",
   "execution_count": null,
   "id": "39925719-73ce-49de-b6ea-333f96b5fd9a",
   "metadata": {},
   "outputs": [],
   "source": []
  }
 ],
 "metadata": {
  "kernelspec": {
   "display_name": "Python 3 (ipykernel)",
   "language": "python",
   "name": "python3"
  },
  "language_info": {
   "codemirror_mode": {
    "name": "ipython",
    "version": 3
   },
   "file_extension": ".py",
   "mimetype": "text/x-python",
   "name": "python",
   "nbconvert_exporter": "python",
   "pygments_lexer": "ipython3",
   "version": "3.11.11"
  }
 },
 "nbformat": 4,
 "nbformat_minor": 5
}
